{
  "nbformat": 4,
  "nbformat_minor": 0,
  "metadata": {
    "colab": {
      "name": "DeepSpeech_STT.ipynb",
      "version": "0.3.2",
      "provenance": [],
      "collapsed_sections": [],
      "include_colab_link": true
    },
    "kernelspec": {
      "name": "python3",
      "display_name": "Python 3"
    },
    "accelerator": "GPU"
  },
  "cells": [
    {
      "cell_type": "markdown",
      "metadata": {
        "id": "view-in-github",
        "colab_type": "text"
      },
      "source": [
        "<a href=\"https://colab.research.google.com/github/mohammedterry/NLP_Lab/blob/master/DeepSpeech_STT.ipynb\" target=\"_parent\"><img src=\"https://colab.research.google.com/assets/colab-badge.svg\" alt=\"Open In Colab\"/></a>"
      ]
    },
    {
      "metadata": {
        "id": "U8sTko2DyVy6",
        "colab_type": "code",
        "colab": {}
      },
      "cell_type": "code",
      "source": [
        "from IPython.display import Audio"
      ],
      "execution_count": 0,
      "outputs": []
    },
    {
      "metadata": {
        "id": "nErYLUW80Ibi",
        "colab_type": "text"
      },
      "cell_type": "markdown",
      "source": [
        "# Deep Speech"
      ]
    },
    {
      "metadata": {
        "id": "2k7qXWsd0TCh",
        "colab_type": "code",
        "colab": {}
      },
      "cell_type": "code",
      "source": [
        "!wget https://github.com/mozilla/DeepSpeech/releases/download/v0.4.1/deepspeech-0.4.1-models.tar.gz"
      ],
      "execution_count": 0,
      "outputs": []
    },
    {
      "metadata": {
        "id": "HjLrn1r6H7wO",
        "colab_type": "code",
        "colab": {}
      },
      "cell_type": "code",
      "source": [
        "!tar xvfz deepspeech-0.4.1-models.tar.gz"
      ],
      "execution_count": 0,
      "outputs": []
    },
    {
      "metadata": {
        "id": "2A1Hg0U70J_H",
        "colab_type": "code",
        "colab": {}
      },
      "cell_type": "code",
      "source": [
        "!pip3 install --upgrade deepspeech"
      ],
      "execution_count": 0,
      "outputs": []
    },
    {
      "metadata": {
        "id": "Xj68Org4Jqsx",
        "colab_type": "text"
      },
      "cell_type": "markdown",
      "source": [
        "# Speech-to-Text"
      ]
    },
    {
      "metadata": {
        "id": "0OtDTMtIBeI-",
        "colab_type": "code",
        "colab": {}
      },
      "cell_type": "code",
      "source": [
        "import numpy as np\n",
        "\n",
        "def load_audio(audio_path):\n",
        "  fin = wave.open(audio_path, 'rb')\n",
        "  audio = np.frombuffer(fin.readframes(fin.getnframes()), np.int16)\n",
        "  fin.close()\n",
        "  return audio"
      ],
      "execution_count": 0,
      "outputs": []
    },
    {
      "metadata": {
        "id": "tt_5WaDI2f51",
        "colab_type": "code",
        "colab": {}
      },
      "cell_type": "code",
      "source": [
        "import wave \n",
        "\n",
        "def frame_rate(audio_path):\n",
        "  fin = wave.open(audio_path, 'rb')\n",
        "  sample_rate = fin.getframerate()\n",
        "  fin.close()\n",
        "  return sample_rate"
      ],
      "execution_count": 0,
      "outputs": []
    },
    {
      "metadata": {
        "id": "IC4DCD4G0VV_",
        "colab_type": "code",
        "colab": {}
      },
      "cell_type": "code",
      "source": [
        "model    = 'models/output_graph.pbmm'\n",
        "alphabet = 'models/alphabet.txt'\n",
        "lm       = 'models/lm.binary'\n",
        "trie     = 'models/trie'\n",
        "BEAM_WIDTH = 500\n",
        "LM_WEIGHT = 1.50\n",
        "VALID_WORD_COUNT_WEIGHT = 2.10\n",
        "N_FEATURES = 26\n",
        "N_CONTEXT = 9\n",
        "\n",
        "from deepspeech import Model\n",
        "\n",
        "ds = Model(model, N_FEATURES, N_CONTEXT, alphabet, BEAM_WIDTH)\n",
        "if lm and trie:\n",
        "  ds.enableDecoderWithLM(alphabet, lm, trie, LM_WEIGHT,VALID_WORD_COUNT_WEIGHT)"
      ],
      "execution_count": 0,
      "outputs": []
    },
    {
      "metadata": {
        "id": "2GbsevReUWNw",
        "colab_type": "text"
      },
      "cell_type": "markdown",
      "source": [
        "## Test 1"
      ]
    },
    {
      "metadata": {
        "id": "oSdkXU9nVPFP",
        "colab_type": "code",
        "colab": {}
      },
      "cell_type": "code",
      "source": [
        "!curl -O https://www.ee.columbia.edu/~dpwe/sounds/sents/sm3_cln.wav\n",
        "Audio(url = \"https://www.ee.columbia.edu/~dpwe/sounds/sents/sm3_cln.wav\")"
      ],
      "execution_count": 0,
      "outputs": []
    },
    {
      "metadata": {
        "id": "YEcAGem6VU5I",
        "colab_type": "code",
        "colab": {}
      },
      "cell_type": "code",
      "source": [
        "audio_file = \"sm3_cln.wav\"\n",
        "ds.stt(load_audio(audio_file), frame_rate(audio_file))"
      ],
      "execution_count": 0,
      "outputs": []
    },
    {
      "metadata": {
        "id": "OSG3eLNhVNrO",
        "colab_type": "text"
      },
      "cell_type": "markdown",
      "source": [
        "## Test 2"
      ]
    },
    {
      "metadata": {
        "id": "GY7b242oUZQc",
        "colab_type": "code",
        "colab": {}
      },
      "cell_type": "code",
      "source": [
        "!curl -O https://www.ee.columbia.edu/~dpwe/sounds/sents/sm1_cln.wav\n",
        "Audio(url = \"https://www.ee.columbia.edu/~dpwe/sounds/sents/sm1_cln.wav\")"
      ],
      "execution_count": 0,
      "outputs": []
    },
    {
      "metadata": {
        "id": "SJPKEvFMUfI6",
        "colab_type": "code",
        "colab": {}
      },
      "cell_type": "code",
      "source": [
        "audio_file = \"sm1_cln.wav\"\n",
        "ds.stt(load_audio(audio_file), frame_rate(audio_file))"
      ],
      "execution_count": 0,
      "outputs": []
    },
    {
      "metadata": {
        "id": "WqR1IZjuUGgo",
        "colab_type": "text"
      },
      "cell_type": "markdown",
      "source": [
        "## Test 3"
      ]
    },
    {
      "metadata": {
        "id": "JhH097RmTOw_",
        "colab_type": "code",
        "colab": {}
      },
      "cell_type": "code",
      "source": [
        "! curl -O https://www.ee.columbia.edu/~dpwe/sounds/sents/sf3_cln.wav\n",
        "Audio(url = \"https://www.ee.columbia.edu/~dpwe/sounds/sents/sf3_cln.wav\")"
      ],
      "execution_count": 0,
      "outputs": []
    },
    {
      "metadata": {
        "id": "qeJqO5ZTTUOR",
        "colab_type": "code",
        "colab": {}
      },
      "cell_type": "code",
      "source": [
        "audio_file = \"sf3_cln.wav\"\n",
        "ds.stt(load_audio(audio_file), frame_rate(audio_file))"
      ],
      "execution_count": 0,
      "outputs": []
    },
    {
      "metadata": {
        "id": "8csbTJDLU110",
        "colab_type": "text"
      },
      "cell_type": "markdown",
      "source": [
        "## Test 4"
      ]
    },
    {
      "metadata": {
        "id": "015tAsbONuIB",
        "colab_type": "code",
        "colab": {}
      },
      "cell_type": "code",
      "source": [
        "!curl -O https://www.ee.columbia.edu/~dpwe/sounds/sents/sf1_cln.wav\n",
        "Audio(url = \"https://www.ee.columbia.edu/~dpwe/sounds/sents/sf1_cln.wav\")"
      ],
      "execution_count": 0,
      "outputs": []
    },
    {
      "metadata": {
        "id": "WpAwTUVk6ZM-",
        "colab_type": "code",
        "colab": {}
      },
      "cell_type": "code",
      "source": [
        "audio_file = \"sf1_cln.wav\"\n",
        "ds.stt(load_audio(audio_file), frame_rate(audio_file))"
      ],
      "execution_count": 0,
      "outputs": []
    },
    {
      "metadata": {
        "id": "JEr-p9ZlPysE",
        "colab_type": "text"
      },
      "cell_type": "markdown",
      "source": [
        "## Test 5"
      ]
    },
    {
      "metadata": {
        "id": "yCt9j2x5U32O",
        "colab_type": "code",
        "colab": {}
      },
      "cell_type": "code",
      "source": [
        "!curl -O https://www.ee.columbia.edu/~dpwe/sounds/sents/sm2_cln.wav\n",
        "Audio(url = \"https://www.ee.columbia.edu/~dpwe/sounds/sents/sm2_cln.wav\")"
      ],
      "execution_count": 0,
      "outputs": []
    },
    {
      "metadata": {
        "id": "Tjc3o87yU-ta",
        "colab_type": "code",
        "colab": {}
      },
      "cell_type": "code",
      "source": [
        "audio_file = \"sm2_cln.wav\"\n",
        "ds.stt(load_audio(audio_file), frame_rate(audio_file))"
      ],
      "execution_count": 0,
      "outputs": []
    },
    {
      "metadata": {
        "id": "pBtZESu3gZ30",
        "colab_type": "text"
      },
      "cell_type": "markdown",
      "source": [
        "# Try some more\n",
        "http://www.ee.columbia.edu/~dpwe/sounds/musp/"
      ]
    }
  ]
}