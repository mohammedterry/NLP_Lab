{
  "nbformat": 4,
  "nbformat_minor": 0,
  "metadata": {
    "colab": {
      "name": "Entity_Linking.ipynb",
      "version": "0.3.2",
      "provenance": [],
      "collapsed_sections": [],
      "include_colab_link": true
    },
    "kernelspec": {
      "name": "python3",
      "display_name": "Python 3"
    }
  },
  "cells": [
    {
      "cell_type": "markdown",
      "metadata": {
        "id": "view-in-github",
        "colab_type": "text"
      },
      "source": [
        "<a href=\"https://colab.research.google.com/github/mohammedterry/NLP_Lab/blob/master/Entity_Linking.ipynb\" target=\"_parent\"><img src=\"https://colab.research.google.com/assets/colab-badge.svg\" alt=\"Open In Colab\"/></a>"
      ]
    },
    {
      "metadata": {
        "id": "ZVhE2JYuwWLE",
        "colab_type": "text"
      },
      "cell_type": "markdown",
      "source": [
        "# DBPedia"
      ]
    },
    {
      "metadata": {
        "id": "3PpB2Ps1eTho",
        "colab_type": "code",
        "colab": {}
      },
      "cell_type": "code",
      "source": [
        "example_name = '_'.join([word[0].upper() + word[1:] for word in input().split()])\n",
        "example_name"
      ],
      "execution_count": 0,
      "outputs": []
    },
    {
      "metadata": {
        "id": "EMbN9W_ehdzM",
        "colab_type": "code",
        "colab": {}
      },
      "cell_type": "code",
      "source": [
        "import requests\n",
        "\n",
        "dbpedia_json = f\"http://dbpedia.org/data/{example_name}.json\"\n",
        "data = requests.get(dbpedia_json).json()"
      ],
      "execution_count": 0,
      "outputs": []
    },
    {
      "metadata": {
        "id": "aAP96Z6Ou46F",
        "colab_type": "code",
        "colab": {}
      },
      "cell_type": "code",
      "source": [
        "related_entities = {}\n",
        "for entity,relations in data.items():\n",
        "  entity = entity.split('/')[-1]\n",
        "  for relation in relations:\n",
        "    if \"ontology\" in relation:\n",
        "      relation = relation.split('/ontology/')[-1]\n",
        "      if entity != example_name:\n",
        "        if relation in related_entities:\n",
        "          related_entities[relation].add(entity)\n",
        "        else:\n",
        "          related_entities[relation] = {entity}\n",
        "person = data[dbpedia_json.replace('/data/','/resource/')[:-5]]\n",
        "for relation,entities in person.items():\n",
        "  relation = relation.split('/')[-1]\n",
        "  if relation.isalpha():\n",
        "    for entity in entities:\n",
        "      entity = str(entity[\"value\"]).split('/')[-1].split('Category:')[-1]\n",
        "      if relation in related_entities:\n",
        "        related_entities[relation].add(entity)\n",
        "      else:\n",
        "        related_entities[relation] = {entity}\n",
        "related_entities"
      ],
      "execution_count": 0,
      "outputs": []
    },
    {
      "metadata": {
        "id": "4KhzSiZvu_NH",
        "colab_type": "code",
        "colab": {}
      },
      "cell_type": "code",
      "source": [
        "from random import choice\n",
        "relation = choice(list(related_entities.keys()))\n",
        "print(f\"{example_name.replace('_',' ')} - {relation} - {[entity.replace('_',' ') for entity in related_entities[relation]]}\")"
      ],
      "execution_count": 0,
      "outputs": []
    },
    {
      "metadata": {
        "id": "h22_B5TrwZxR",
        "colab_type": "text"
      },
      "cell_type": "markdown",
      "source": [
        "# Wikipedia"
      ]
    },
    {
      "metadata": {
        "id": "J-PQQLOUykpd",
        "colab_type": "code",
        "colab": {}
      },
      "cell_type": "code",
      "source": [
        "import requests\n",
        "\n",
        "wikipedia_url = \"https://en.wikipedia.org/wiki/\" + example_name\n",
        "result = requests.get(wikipedia_url)"
      ],
      "execution_count": 0,
      "outputs": []
    },
    {
      "metadata": {
        "id": "tqIqfAAdyrPI",
        "colab_type": "code",
        "colab": {}
      },
      "cell_type": "code",
      "source": [
        "from bs4 import BeautifulSoup as bs\n",
        "\n",
        "soup = bs(result.text, \"html.parser\")\n",
        "related_entities = set()\n",
        "for a in soup.find_all(\"a\"):\n",
        "    href = a.get(\"href\")\n",
        "    if href is not None and \"/wiki/\" in href and \":\" not in href and \"Main_Page\" not in href:\n",
        "      entity = a.text.strip()\n",
        "      if entity not in (\"read\",\"article\") and len(entity) > 0:\n",
        "        related_entities.add(entity)\n",
        "\n",
        "print(related_entities) "
      ],
      "execution_count": 0,
      "outputs": []
    },
    {
      "metadata": {
        "id": "wwgTgikuwgJt",
        "colab_type": "code",
        "colab": {}
      },
      "cell_type": "code",
      "source": [
        "from matplotlib import pyplot as plt\n",
        "from wordcloud import WordCloud\n",
        "\n",
        "wordcloud = WordCloud(width = 800, height = 800, background_color ='white', min_font_size = 10).generate(' '.join(related_entities))\n",
        "\n",
        "plt.figure(figsize=[20,10])\n",
        "plt.imshow(wordcloud, interpolation='bilinear')\n",
        "plt.axis(\"off\")"
      ],
      "execution_count": 0,
      "outputs": []
    },
    {
      "metadata": {
        "id": "0j8fHt1GPQUQ",
        "colab_type": "text"
      },
      "cell_type": "markdown",
      "source": [
        "# Expanding Date Entities"
      ]
    },
    {
      "metadata": {
        "id": "2UwZdOJrPWi2",
        "colab_type": "code",
        "colab": {}
      },
      "cell_type": "code",
      "source": [
        "example_date = input()"
      ],
      "execution_count": 0,
      "outputs": []
    },
    {
      "metadata": {
        "id": "Mm7xXJjsPUPA",
        "colab_type": "code",
        "colab": {}
      },
      "cell_type": "code",
      "source": [
        "from dateutil import parser\n",
        "try:\n",
        "  datetime = parser.parse(example_date)\n",
        "except:\n",
        "  datetime = \"unrecognised date!\"\n",
        "datetime"
      ],
      "execution_count": 0,
      "outputs": []
    },
    {
      "metadata": {
        "id": "pSsX3-gxQN8b",
        "colab_type": "code",
        "colab": {}
      },
      "cell_type": "code",
      "source": [
        "stndrd,th = [\"st\",\"nd\",\"rd\"], [\"th\"] \n",
        "\n",
        "import pandas as pd \n",
        "dt = pd.to_datetime(datetime)\n",
        "date_time = {\n",
        "                    \"phrase\":example_date,\n",
        "                    \"date\": f\"{dt.day}/{dt.month}/{dt.year}\",\n",
        "                    \"time\": f\"{dt.hour}:{dt.minute}:{dt.second}\",\n",
        "                    \"month\":(\"January\",\"February\",\"March\",\"April\",\"May\",\"June\",\"July\",\"August\",\"September\",\"October\",\"November\",\"December\")[dt.month -1],\n",
        "                    \"day\":(\"Monday\",\"Tuesday\",\"Wednesday\",\"Thursday\",\"Friday\",\"Saturday\",\"Sunday\")[dt.dayofweek],\n",
        "                    \"day of year\":dt.dayofyear,\n",
        "                    \"suffix\":f\"{dt.day}{(stndrd + th*17 + stndrd + th * 7 + stndrd)[dt.month - 1]}\",\n",
        "                    \"is month end\":dt.is_month_end,\n",
        "                    \"is month start\":dt.is_month_start,\n",
        "                    \"is quarter end\":dt.is_quarter_end,\n",
        "                    \"is quarter start\":dt.is_quarter_start,\n",
        "                    \"is year start\":dt.is_year_start,\n",
        "                    \"is year end\":dt.is_year_end,\n",
        "                    \"is weekend\":dt.dayofweek in (6,7),\n",
        "    }\n",
        "\n",
        "date_time"
      ],
      "execution_count": 0,
      "outputs": []
    },
    {
      "metadata": {
        "id": "pbEgBCmlQ4fP",
        "colab_type": "code",
        "colab": {}
      },
      "cell_type": "code",
      "source": [
        "example_date = f\"{date_time['suffix']} {date_time['month']}\"\n",
        "example_date"
      ],
      "execution_count": 0,
      "outputs": []
    },
    {
      "metadata": {
        "id": "lwx4-sVK0unE",
        "colab_type": "text"
      },
      "cell_type": "markdown",
      "source": [
        "# Google Correlate"
      ]
    },
    {
      "metadata": {
        "id": "dVwQYMyL1Qc1",
        "colab_type": "code",
        "colab": {}
      },
      "cell_type": "code",
      "source": [
        "from random import choice\n",
        "\n",
        "time_frame = choice((\"weekly\",\"monthly\"))\n",
        "country_code = choice((\"uk\",\"us\"))\n",
        "\n",
        "print(time_frame,country_code)"
      ],
      "execution_count": 0,
      "outputs": []
    },
    {
      "metadata": {
        "id": "e1mrmP9o2UPD",
        "colab_type": "code",
        "colab": {}
      },
      "cell_type": "code",
      "source": [
        "import requests\n",
        "gcorrelate_url = f\"https://www.google.com/trends/correlate/search?e={example_date}&t={time_frame}&p={country_code}\"\n",
        "result = requests.get(gcorrelate_url)\n",
        "\n",
        "from bs4 import BeautifulSoup as bs\n",
        "soup = bs(result.text, \"html.parser\") \n",
        "\n",
        "correlated = set()\n",
        "for entities in soup.find_all(\"li\",attrs={\"class\":\"result\"}):\n",
        "  for entity in entities:\n",
        "    entity = entity.text.strip()\n",
        "    for ent in entity.split('\\n'):\n",
        "      try:\n",
        "        float(ent)\n",
        "      except:\n",
        "        correlated.add(ent)\n",
        "\n",
        "print(correlated)"
      ],
      "execution_count": 0,
      "outputs": []
    },
    {
      "metadata": {
        "id": "6RLRi6cgwa8L",
        "colab_type": "code",
        "colab": {}
      },
      "cell_type": "code",
      "source": [
        "from matplotlib import pyplot as plt\n",
        "from wordcloud import WordCloud\n",
        "\n",
        "wordcloud = WordCloud(width = 800, height = 800, background_color ='white', min_font_size = 10).generate(' '.join(correlated))\n",
        "\n",
        "plt.figure(figsize=[20,10])\n",
        "plt.imshow(wordcloud, interpolation='bilinear')\n",
        "plt.axis(\"off\")"
      ],
      "execution_count": 0,
      "outputs": []
    }
  ]
}