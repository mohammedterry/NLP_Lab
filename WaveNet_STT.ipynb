{
  "nbformat": 4,
  "nbformat_minor": 0,
  "metadata": {
    "colab": {
      "name": "WaveNet_STT.ipynb",
      "version": "0.3.2",
      "provenance": [],
      "collapsed_sections": [],
      "include_colab_link": true
    },
    "kernelspec": {
      "name": "python3",
      "display_name": "Python 3"
    },
    "accelerator": "GPU"
  },
  "cells": [
    {
      "cell_type": "markdown",
      "metadata": {
        "id": "view-in-github",
        "colab_type": "text"
      },
      "source": [
        "<a href=\"https://colab.research.google.com/github/mohammedterry/NLP_Lab/blob/master/WaveNet_STT.ipynb\" target=\"_parent\"><img src=\"https://colab.research.google.com/assets/colab-badge.svg\" alt=\"Open In Colab\"/></a>"
      ]
    },
    {
      "metadata": {
        "id": "tX_X8SoXKZnl",
        "colab_type": "text"
      },
      "cell_type": "markdown",
      "source": [
        "# WaveNet"
      ]
    },
    {
      "metadata": {
        "id": "34uw9FyTGagI",
        "colab_type": "code",
        "colab": {}
      },
      "cell_type": "code",
      "source": [
        "!pip3 install tensorflow==1.0.0"
      ],
      "execution_count": 0,
      "outputs": []
    },
    {
      "metadata": {
        "id": "85wQog3AGOs7",
        "colab_type": "code",
        "colab": {}
      },
      "cell_type": "code",
      "source": [
        "!pip3 install sugartensor"
      ],
      "execution_count": 0,
      "outputs": []
    },
    {
      "metadata": {
        "id": "QEUG17Wu-JUo",
        "colab_type": "code",
        "colab": {}
      },
      "cell_type": "code",
      "source": [
        "!git clone https://github.com/buriburisuri/speech-to-text-wavenet"
      ],
      "execution_count": 0,
      "outputs": []
    },
    {
      "metadata": {
        "id": "LzdnvSc0-kvW",
        "colab_type": "code",
        "colab": {}
      },
      "cell_type": "code",
      "source": [
        "import os\n",
        "os.chdir('speech-to-text-wavenet')\n",
        "!ls"
      ],
      "execution_count": 0,
      "outputs": []
    },
    {
      "metadata": {
        "id": "e0ekbY6qmCNG",
        "colab_type": "code",
        "colab": {}
      },
      "cell_type": "code",
      "source": [
        "!mkdir asset\n",
        "!ls"
      ],
      "execution_count": 0,
      "outputs": []
    },
    {
      "metadata": {
        "id": "bTnWuxgaKtB1",
        "colab_type": "text"
      },
      "cell_type": "markdown",
      "source": [
        "### Load in Pretrained Weights saved in Google Drive"
      ]
    },
    {
      "metadata": {
        "id": "HkRaJbV2_lTm",
        "colab_type": "code",
        "colab": {}
      },
      "cell_type": "code",
      "source": [
        "from google.colab import drive\n",
        "drive.mount('/content/gdrive')"
      ],
      "execution_count": 0,
      "outputs": []
    },
    {
      "metadata": {
        "id": "Tr9VrhOZlzrg",
        "colab_type": "code",
        "colab": {}
      },
      "cell_type": "code",
      "source": [
        "!cp -r ../gdrive/My\\ Drive/Codes_Projects/speech-to-text-wavenet/asset/* asset/"
      ],
      "execution_count": 0,
      "outputs": []
    },
    {
      "metadata": {
        "id": "Hzu1fgrTLgRW",
        "colab_type": "text"
      },
      "cell_type": "markdown",
      "source": [
        "# Tests"
      ]
    },
    {
      "metadata": {
        "id": "QDz1PZSgLjUn",
        "colab_type": "code",
        "colab": {}
      },
      "cell_type": "code",
      "source": [
        "from IPython.display import Audio\n",
        "os.environ['TF_CPP_MIN_LOG_LEVEL'] = '3' "
      ],
      "execution_count": 0,
      "outputs": []
    },
    {
      "metadata": {
        "id": "J_nfQnwhL8n-",
        "colab_type": "text"
      },
      "cell_type": "markdown",
      "source": [
        "## Test 1"
      ]
    },
    {
      "metadata": {
        "id": "cYBk7OLTFSju",
        "colab_type": "code",
        "colab": {}
      },
      "cell_type": "code",
      "source": [
        "!curl -O https://www.ee.columbia.edu/~dpwe/sounds/sents/sm3_cln.wav\n",
        "Audio(url = \"https://www.ee.columbia.edu/~dpwe/sounds/sents/sm3_cln.wav\")"
      ],
      "execution_count": 0,
      "outputs": []
    },
    {
      "metadata": {
        "id": "mTmqtQeS-YxU",
        "colab_type": "code",
        "colab": {}
      },
      "cell_type": "code",
      "source": [
        "!python3 recognize.py --file sm3_cln.wav"
      ],
      "execution_count": 0,
      "outputs": []
    },
    {
      "metadata": {
        "id": "T-QViPO2MBT4",
        "colab_type": "text"
      },
      "cell_type": "markdown",
      "source": [
        "## Test 2"
      ]
    },
    {
      "metadata": {
        "id": "bKm1w4Sv9sTN",
        "colab_type": "code",
        "colab": {}
      },
      "cell_type": "code",
      "source": [
        "!curl -O https://www.ee.columbia.edu/~dpwe/sounds/sents/sm1_cln.wav\n",
        "Audio(url = \"https://www.ee.columbia.edu/~dpwe/sounds/sents/sm1_cln.wav\")"
      ],
      "execution_count": 0,
      "outputs": []
    },
    {
      "metadata": {
        "id": "e72oDVpOMOJL",
        "colab_type": "code",
        "colab": {}
      },
      "cell_type": "code",
      "source": [
        "!python3 recognize.py --file sm1_cln.wav"
      ],
      "execution_count": 0,
      "outputs": []
    },
    {
      "metadata": {
        "id": "vD9un8wLMszP",
        "colab_type": "text"
      },
      "cell_type": "markdown",
      "source": [
        "## Test 3"
      ]
    },
    {
      "metadata": {
        "id": "URkrfOmGMuaz",
        "colab_type": "code",
        "colab": {}
      },
      "cell_type": "code",
      "source": [
        "! curl -O https://www.ee.columbia.edu/~dpwe/sounds/sents/sf3_cln.wav\n",
        "Audio(url = \"https://www.ee.columbia.edu/~dpwe/sounds/sents/sf3_cln.wav\")"
      ],
      "execution_count": 0,
      "outputs": []
    },
    {
      "metadata": {
        "id": "pQ7OVCLgMx4S",
        "colab_type": "code",
        "colab": {}
      },
      "cell_type": "code",
      "source": [
        "!python3 recognize.py --file sf3_cln.wav"
      ],
      "execution_count": 0,
      "outputs": []
    },
    {
      "metadata": {
        "id": "kmUiIrk7M47n",
        "colab_type": "text"
      },
      "cell_type": "markdown",
      "source": [
        "## Test 4"
      ]
    },
    {
      "metadata": {
        "id": "pdbQJqU1M6GQ",
        "colab_type": "code",
        "colab": {}
      },
      "cell_type": "code",
      "source": [
        "!curl -O https://www.ee.columbia.edu/~dpwe/sounds/sents/sf1_cln.wav\n",
        "Audio(url = \"https://www.ee.columbia.edu/~dpwe/sounds/sents/sf1_cln.wav\")"
      ],
      "execution_count": 0,
      "outputs": []
    },
    {
      "metadata": {
        "id": "dGD-QNHXM-qA",
        "colab_type": "code",
        "colab": {}
      },
      "cell_type": "code",
      "source": [
        "!python3 recognize.py --file sf1_cln.wav"
      ],
      "execution_count": 0,
      "outputs": []
    },
    {
      "metadata": {
        "id": "ww_xIVu8NGWe",
        "colab_type": "text"
      },
      "cell_type": "markdown",
      "source": [
        "## Test 5"
      ]
    },
    {
      "metadata": {
        "id": "HMJr--k5NH7P",
        "colab_type": "code",
        "colab": {}
      },
      "cell_type": "code",
      "source": [
        "!curl -O https://www.ee.columbia.edu/~dpwe/sounds/sents/sm2_cln.wav\n",
        "Audio(url = \"https://www.ee.columbia.edu/~dpwe/sounds/sents/sm2_cln.wav\")"
      ],
      "execution_count": 0,
      "outputs": []
    },
    {
      "metadata": {
        "id": "HDSWbi2gNLPG",
        "colab_type": "code",
        "colab": {}
      },
      "cell_type": "code",
      "source": [
        "!python3 recognize.py --file sm2_cln.wav"
      ],
      "execution_count": 0,
      "outputs": []
    },
    {
      "metadata": {
        "id": "0JfRwehkj4tj",
        "colab_type": "text"
      },
      "cell_type": "markdown",
      "source": [
        "## Try some more (longer, background noise, etc)"
      ]
    },
    {
      "metadata": {
        "id": "DAFwKVRsj7OB",
        "colab_type": "code",
        "colab": {}
      },
      "cell_type": "code",
      "source": [
        "!curl -O https://www.ee.columbia.edu/~dpwe/sounds/musp/mssp2.wav\n",
        "Audio(url = \"https://www.ee.columbia.edu/~dpwe/sounds/musp/mssp2.wav\")"
      ],
      "execution_count": 0,
      "outputs": []
    },
    {
      "metadata": {
        "id": "lkcBVAdxkF9p",
        "colab_type": "code",
        "colab": {}
      },
      "cell_type": "code",
      "source": [
        "!python3 recognize.py --file mssp2.wav"
      ],
      "execution_count": 0,
      "outputs": []
    },
    {
      "metadata": {
        "id": "x8lzkP1gBLY-",
        "colab_type": "text"
      },
      "cell_type": "markdown",
      "source": [
        "# Phonetic Spellchecking"
      ]
    },
    {
      "metadata": {
        "id": "SfI1rc1uBNr9",
        "colab_type": "code",
        "colab": {}
      },
      "cell_type": "code",
      "source": [
        "!pip3 install jellyfish\n",
        "from jellyfish import metaphone, soundex, nysiis, match_rating_codex, jaro_distance, levenshtein_distance, damerau_levenshtein_distance, jaro_winkler, hamming_distance"
      ],
      "execution_count": 0,
      "outputs": []
    },
    {
      "metadata": {
        "id": "8iVkyMKxBThI",
        "colab_type": "code",
        "colab": {}
      },
      "cell_type": "code",
      "source": [
        "!wget https://raw.githubusercontent.com/first20hours/google-10000-english/master/google-10000-english.txt\n",
        "with open('google-10000-english.txt') as f:\n",
        "  vocab = [word.strip() for word in f.readlines()]\n",
        "vocab += [\"chive\",\"chives\"]"
      ],
      "execution_count": 0,
      "outputs": []
    },
    {
      "metadata": {
        "id": "eTENO0TIBWvD",
        "colab_type": "code",
        "colab": {}
      },
      "cell_type": "code",
      "source": [
        "def suggest_corrections(typo, top_n = 3, reverse = False):\n",
        "  typo_phonetic = phonetic_encoder(typo)\n",
        "  scores = [distance_metric(typo_phonetic, phonetic) for phonetic in vocab_phonetic]\n",
        "  ranked_candidates_idx = sorted([(score,idx) for idx,score in enumerate(scores)], reverse= reverse)\n",
        "  ranked_candidates = [vocab[idx] for _,idx in ranked_candidates_idx[:top_n]]\n",
        "  return ranked_candidates\n",
        "\n",
        "def spellcheck(sentence, reverse = False):\n",
        "  return ' '.join([typo if typo in vocab else suggest_corrections(typo,1,reverse)[0] for typo in sentence.split()])"
      ],
      "execution_count": 0,
      "outputs": []
    },
    {
      "metadata": {
        "id": "jo-w0IJhHy-D",
        "colab_type": "code",
        "colab": {}
      },
      "cell_type": "code",
      "source": [
        "phonetic_encoders = [metaphone, soundex, nysiis, match_rating_codex]\n",
        "inverse_distance_metrics = [jaro_distance, jaro_winkler]\n",
        "distance_metrics = [levenshtein_distance, damerau_levenshtein_distance, hamming_distance]"
      ],
      "execution_count": 0,
      "outputs": []
    },
    {
      "metadata": {
        "id": "wbR_ussbJAax",
        "colab_type": "code",
        "colab": {}
      },
      "cell_type": "code",
      "source": [
        "typo = 'chivez'\n",
        "test_sentence = 'cottige cheeze with chivez is delicius'\n",
        "\n",
        "for phonetic_encoder in phonetic_encoders:\n",
        "  print('\\n'+'-'*10 + phonetic_encoder.__name__.upper() + '-'*10)\n",
        "  vocab_phonetic = [phonetic_encoder(word) for word in vocab]\n",
        "  for distance_metric in distance_metrics:\n",
        "    print(f\"{distance_metric.__name__.upper()}\\n\\t\\t\\t{suggest_corrections(typo)}, {spellcheck(test_sentence)}\")\n",
        "  for distance_metric in inverse_distance_metrics:\n",
        "    print(f\"{distance_metric.__name__.upper()}\\n\\t\\t\\t{suggest_corrections(typo,reverse=True)}, {spellcheck(test_sentence,reverse=True)}\")"
      ],
      "execution_count": 0,
      "outputs": []
    },
    {
      "metadata": {
        "id": "g0k2eHB7B9MH",
        "colab_type": "code",
        "colab": {}
      },
      "cell_type": "code",
      "source": [
        "phonetic_encoder = metaphone\n",
        "vocab_phonetic = [phonetic_encoder(word) for word in vocab]\n",
        "distance_metric = damerau_levenshtein_distance\n",
        "\n",
        "tests = [\n",
        "    \"cotage teese with chives s tolicious\",\n",
        "    \"cotage chees with chaes is telicious\",\n",
        "    \"cottige cheese with chives is delicious\",\n",
        "    \"codies chees with chives is delicious\",\n",
        "    \"cottis chees with chis is delicious\",\n",
        "]\n",
        "\n",
        "for test in tests:\n",
        "  print(f\"{test}\\n{spellcheck(test)}\\n\")"
      ],
      "execution_count": 0,
      "outputs": []
    }
  ]
}